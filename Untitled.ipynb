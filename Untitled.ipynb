{
 "cells": [
  {
   "cell_type": "markdown",
   "id": "55fd245a",
   "metadata": {},
   "source": [
    "# Iris Dataset \n",
    "\n",
    "## Description\n",
    "The Iris dataset was used in R.A. Fisher's classic 1936 paper, The Use of Multiple Measurements in Taxonomic Problems, and can also be found on the UCI Machine Learning Repository.\n",
    "\n",
    "It includes three iris species with 50 samples each as well as some properties about each flower. One flower species is linearly separable from the other two, but the other two are not linearly separable from each other.\n",
    "\n",
    "## Features\n",
    "\n",
    "The columns in this dataset are:\n",
    "\n",
    "1. Id\n",
    "2. SepalLengthCm\n",
    "3. SepalWidthCm\n",
    "4. PetalLengthCm\n",
    "5. PetalWidthCm\n",
    "6. Species\n",
    "\n",
    "This note books uses various machine leaning scaling techniques and uses different classification models to check which model providing more accuracy.\n",
    "\n",
    "Thanks....."
   ]
  },
  {
   "cell_type": "code",
   "execution_count": 3,
   "id": "a1d729dc",
   "metadata": {},
   "outputs": [],
   "source": [
    "import pandas as pd\n",
    "import matplotlib.pyplot as plt\n",
    "import seaborn as sns\n",
    "from sklearn.model_selection import train_test_split"
   ]
  },
  {
   "cell_type": "code",
   "execution_count": 4,
   "id": "c93c6732",
   "metadata": {},
   "outputs": [],
   "source": [
    "dataset = pd.read_csv('Iris.csv')"
   ]
  },
  {
   "cell_type": "code",
   "execution_count": 5,
   "id": "beeef1b7",
   "metadata": {},
   "outputs": [
    {
     "data": {
      "text/html": [
       "<div>\n",
       "<style scoped>\n",
       "    .dataframe tbody tr th:only-of-type {\n",
       "        vertical-align: middle;\n",
       "    }\n",
       "\n",
       "    .dataframe tbody tr th {\n",
       "        vertical-align: top;\n",
       "    }\n",
       "\n",
       "    .dataframe thead th {\n",
       "        text-align: right;\n",
       "    }\n",
       "</style>\n",
       "<table border=\"1\" class=\"dataframe\">\n",
       "  <thead>\n",
       "    <tr style=\"text-align: right;\">\n",
       "      <th></th>\n",
       "      <th>Id</th>\n",
       "      <th>SepalLengthCm</th>\n",
       "      <th>SepalWidthCm</th>\n",
       "      <th>PetalLengthCm</th>\n",
       "      <th>PetalWidthCm</th>\n",
       "      <th>Species</th>\n",
       "    </tr>\n",
       "  </thead>\n",
       "  <tbody>\n",
       "    <tr>\n",
       "      <th>0</th>\n",
       "      <td>1</td>\n",
       "      <td>5.1</td>\n",
       "      <td>3.5</td>\n",
       "      <td>1.4</td>\n",
       "      <td>0.2</td>\n",
       "      <td>Iris-setosa</td>\n",
       "    </tr>\n",
       "    <tr>\n",
       "      <th>1</th>\n",
       "      <td>2</td>\n",
       "      <td>4.9</td>\n",
       "      <td>3.0</td>\n",
       "      <td>1.4</td>\n",
       "      <td>0.2</td>\n",
       "      <td>Iris-setosa</td>\n",
       "    </tr>\n",
       "    <tr>\n",
       "      <th>2</th>\n",
       "      <td>3</td>\n",
       "      <td>4.7</td>\n",
       "      <td>3.2</td>\n",
       "      <td>1.3</td>\n",
       "      <td>0.2</td>\n",
       "      <td>Iris-setosa</td>\n",
       "    </tr>\n",
       "    <tr>\n",
       "      <th>3</th>\n",
       "      <td>4</td>\n",
       "      <td>4.6</td>\n",
       "      <td>3.1</td>\n",
       "      <td>1.5</td>\n",
       "      <td>0.2</td>\n",
       "      <td>Iris-setosa</td>\n",
       "    </tr>\n",
       "    <tr>\n",
       "      <th>4</th>\n",
       "      <td>5</td>\n",
       "      <td>5.0</td>\n",
       "      <td>3.6</td>\n",
       "      <td>1.4</td>\n",
       "      <td>0.2</td>\n",
       "      <td>Iris-setosa</td>\n",
       "    </tr>\n",
       "  </tbody>\n",
       "</table>\n",
       "</div>"
      ],
      "text/plain": [
       "   Id  SepalLengthCm  SepalWidthCm  PetalLengthCm  PetalWidthCm      Species\n",
       "0   1            5.1           3.5            1.4           0.2  Iris-setosa\n",
       "1   2            4.9           3.0            1.4           0.2  Iris-setosa\n",
       "2   3            4.7           3.2            1.3           0.2  Iris-setosa\n",
       "3   4            4.6           3.1            1.5           0.2  Iris-setosa\n",
       "4   5            5.0           3.6            1.4           0.2  Iris-setosa"
      ]
     },
     "execution_count": 5,
     "metadata": {},
     "output_type": "execute_result"
    }
   ],
   "source": [
    "dataset.head()"
   ]
  },
  {
   "cell_type": "code",
   "execution_count": 6,
   "id": "bf9728fc",
   "metadata": {},
   "outputs": [
    {
     "name": "stdout",
     "output_type": "stream",
     "text": [
      "<class 'pandas.core.frame.DataFrame'>\n",
      "RangeIndex: 150 entries, 0 to 149\n",
      "Data columns (total 6 columns):\n",
      " #   Column         Non-Null Count  Dtype  \n",
      "---  ------         --------------  -----  \n",
      " 0   Id             150 non-null    int64  \n",
      " 1   SepalLengthCm  150 non-null    float64\n",
      " 2   SepalWidthCm   150 non-null    float64\n",
      " 3   PetalLengthCm  150 non-null    float64\n",
      " 4   PetalWidthCm   150 non-null    float64\n",
      " 5   Species        150 non-null    object \n",
      "dtypes: float64(4), int64(1), object(1)\n",
      "memory usage: 7.2+ KB\n"
     ]
    }
   ],
   "source": [
    "dataset.info()"
   ]
  },
  {
   "cell_type": "code",
   "execution_count": 7,
   "id": "0cb80981",
   "metadata": {},
   "outputs": [
    {
     "data": {
      "text/html": [
       "<div>\n",
       "<style scoped>\n",
       "    .dataframe tbody tr th:only-of-type {\n",
       "        vertical-align: middle;\n",
       "    }\n",
       "\n",
       "    .dataframe tbody tr th {\n",
       "        vertical-align: top;\n",
       "    }\n",
       "\n",
       "    .dataframe thead th {\n",
       "        text-align: right;\n",
       "    }\n",
       "</style>\n",
       "<table border=\"1\" class=\"dataframe\">\n",
       "  <thead>\n",
       "    <tr style=\"text-align: right;\">\n",
       "      <th></th>\n",
       "      <th>Id</th>\n",
       "      <th>SepalLengthCm</th>\n",
       "      <th>SepalWidthCm</th>\n",
       "      <th>PetalLengthCm</th>\n",
       "      <th>PetalWidthCm</th>\n",
       "    </tr>\n",
       "  </thead>\n",
       "  <tbody>\n",
       "    <tr>\n",
       "      <th>count</th>\n",
       "      <td>150.000000</td>\n",
       "      <td>150.000000</td>\n",
       "      <td>150.000000</td>\n",
       "      <td>150.000000</td>\n",
       "      <td>150.000000</td>\n",
       "    </tr>\n",
       "    <tr>\n",
       "      <th>mean</th>\n",
       "      <td>75.500000</td>\n",
       "      <td>5.843333</td>\n",
       "      <td>3.054000</td>\n",
       "      <td>3.758667</td>\n",
       "      <td>1.198667</td>\n",
       "    </tr>\n",
       "    <tr>\n",
       "      <th>std</th>\n",
       "      <td>43.445368</td>\n",
       "      <td>0.828066</td>\n",
       "      <td>0.433594</td>\n",
       "      <td>1.764420</td>\n",
       "      <td>0.763161</td>\n",
       "    </tr>\n",
       "    <tr>\n",
       "      <th>min</th>\n",
       "      <td>1.000000</td>\n",
       "      <td>4.300000</td>\n",
       "      <td>2.000000</td>\n",
       "      <td>1.000000</td>\n",
       "      <td>0.100000</td>\n",
       "    </tr>\n",
       "    <tr>\n",
       "      <th>25%</th>\n",
       "      <td>38.250000</td>\n",
       "      <td>5.100000</td>\n",
       "      <td>2.800000</td>\n",
       "      <td>1.600000</td>\n",
       "      <td>0.300000</td>\n",
       "    </tr>\n",
       "    <tr>\n",
       "      <th>50%</th>\n",
       "      <td>75.500000</td>\n",
       "      <td>5.800000</td>\n",
       "      <td>3.000000</td>\n",
       "      <td>4.350000</td>\n",
       "      <td>1.300000</td>\n",
       "    </tr>\n",
       "    <tr>\n",
       "      <th>75%</th>\n",
       "      <td>112.750000</td>\n",
       "      <td>6.400000</td>\n",
       "      <td>3.300000</td>\n",
       "      <td>5.100000</td>\n",
       "      <td>1.800000</td>\n",
       "    </tr>\n",
       "    <tr>\n",
       "      <th>max</th>\n",
       "      <td>150.000000</td>\n",
       "      <td>7.900000</td>\n",
       "      <td>4.400000</td>\n",
       "      <td>6.900000</td>\n",
       "      <td>2.500000</td>\n",
       "    </tr>\n",
       "  </tbody>\n",
       "</table>\n",
       "</div>"
      ],
      "text/plain": [
       "               Id  SepalLengthCm  SepalWidthCm  PetalLengthCm  PetalWidthCm\n",
       "count  150.000000     150.000000    150.000000     150.000000    150.000000\n",
       "mean    75.500000       5.843333      3.054000       3.758667      1.198667\n",
       "std     43.445368       0.828066      0.433594       1.764420      0.763161\n",
       "min      1.000000       4.300000      2.000000       1.000000      0.100000\n",
       "25%     38.250000       5.100000      2.800000       1.600000      0.300000\n",
       "50%     75.500000       5.800000      3.000000       4.350000      1.300000\n",
       "75%    112.750000       6.400000      3.300000       5.100000      1.800000\n",
       "max    150.000000       7.900000      4.400000       6.900000      2.500000"
      ]
     },
     "execution_count": 7,
     "metadata": {},
     "output_type": "execute_result"
    }
   ],
   "source": [
    "dataset.describe()"
   ]
  },
  {
   "cell_type": "code",
   "execution_count": 8,
   "id": "36ec6da2",
   "metadata": {},
   "outputs": [
    {
     "data": {
      "text/plain": [
       "Iris-versicolor    50\n",
       "Iris-setosa        50\n",
       "Iris-virginica     50\n",
       "Name: Species, dtype: int64"
      ]
     },
     "execution_count": 8,
     "metadata": {},
     "output_type": "execute_result"
    }
   ],
   "source": [
    "dataset['Species'].value_counts()"
   ]
  },
  {
   "cell_type": "code",
   "execution_count": 9,
   "id": "7587823e",
   "metadata": {},
   "outputs": [
    {
     "data": {
      "image/png": "[encoded data removed]",
      "text/plain": [
       "<Figure size 432x288 with 1 Axes>"
      ]
     },
     "metadata": {
      "needs_background": "light"
     },
     "output_type": "display_data"
    }
   ],
   "source": [
    "fig = sns.scatterplot(data=dataset,x='SepalLengthCm',y='SepalWidthCm',hue='Species')"
   ]
  },
  {
   "cell_type": "code",
   "execution_count": 10,
   "id": "1f642c0a",
   "metadata": {},
   "outputs": [
    {
     "data": {
      "image/png": "[encoded data removed]",
      "text/plain": [
       "<Figure size 432x288 with 1 Axes>"
      ]
     },
     "metadata": {
      "needs_background": "light"
     },
     "output_type": "display_data"
    }
   ],
   "source": [
    "fig = sns.scatterplot(data=dataset,x='PetalLengthCm',y='PetalWidthCm',hue='Species')"
   ]
  },
  {
   "cell_type": "code",
   "execution_count": 11,
   "id": "e6ff1bad",
   "metadata": {},
   "outputs": [],
   "source": [
    "X = dataset.iloc[:,1:-1]\n",
    "y = dataset.iloc[:,-1]"
   ]
  },
  {
   "cell_type": "code",
   "execution_count": 12,
   "id": "a455a506",
   "metadata": {},
   "outputs": [],
   "source": [
    "X_train,X_test,y_train,y_test = train_test_split(X,y,test_size=0.2,random_state=42)"
   ]
  },
  {
   "cell_type": "code",
   "execution_count": 13,
   "id": "a8b7f125",
   "metadata": {},
   "outputs": [
    {
     "name": "stdout",
     "output_type": "stream",
     "text": [
      "X_train shape  (120, 4)\n",
      "y_train shape  (120,)\n",
      "X_test shape (30, 4)\n",
      "y_test shape  (30,)\n"
     ]
    }
   ],
   "source": [
    "print('X_train shape ',X_train.shape)\n",
    "print('y_train shape ',y_train.shape)\n",
    "print('X_test shape',X_test.shape)\n",
    "print('y_test shape ',y_test.shape)"
   ]
  },
  {
   "cell_type": "code",
   "execution_count": 14,
   "id": "3913d691",
   "metadata": {},
   "outputs": [],
   "source": [
    "from sklearn.preprocessing import StandardScaler,MinMaxScaler,Normalizer,LabelEncoder"
   ]
  },
  {
   "cell_type": "code",
   "execution_count": 15,
   "id": "0a051cf1",
   "metadata": {},
   "outputs": [],
   "source": [
    "encoding = LabelEncoder();\n",
    "y_train = encoding.fit_transform(y_train)\n",
    "y_test = encoding.fit_transform(y_test)"
   ]
  },
  {
   "cell_type": "code",
   "execution_count": 16,
   "id": "bdba06aa",
   "metadata": {},
   "outputs": [
    {
     "name": "stdout",
     "output_type": "stream",
     "text": [
      "[0 0 1 0 0 2 1 0 0 0 2 1 1 0 0 1 2 2 1 2 1 2 1 0 2 1 0 0 0 1 2 0 0 0 1 0 1\n",
      " 2 0 1 2 0 2 2 1 1 2 1 0 1 2 0 0 1 1 0 2 0 0 1 1 2 1 2 2 1 0 0 2 2 0 0 0 1\n",
      " 2 0 2 2 0 1 1 2 1 2 0 2 1 2 1 1 1 0 1 1 0 1 2 2 0 1 2 2 0 2 0 1 2 2 1 2 1\n",
      " 1 2 2 0 1 2 0 1 2]\n",
      "[1 0 2 1 1 0 1 2 1 1 2 0 0 0 0 1 2 1 1 2 0 2 0 2 2 2 2 2 0 0]\n"
     ]
    }
   ],
   "source": [
    "print(y_train)\n",
    "print(y_test)"
   ]
  },
  {
   "cell_type": "code",
   "execution_count": 17,
   "id": "455cc267",
   "metadata": {},
   "outputs": [],
   "source": [
    "ss = StandardScaler();\n",
    "X_train_ss = ss.fit_transform(X_train)\n",
    "X_test_ss = ss.transform(X_test)\n",
    "\n",
    "ms = MinMaxScaler()\n",
    "X_train_ms = ms.fit_transform(X_train)\n",
    "X_test_ms = ms.transform(X_test)\n",
    "\n",
    "ns = Normalizer()\n",
    "X_train_ns = ns.fit_transform(X_train)\n",
    "X_test_ns = ns.transform(X_test)"
   ]
  },
  {
   "cell_type": "code",
   "execution_count": 18,
   "id": "9dec37bf",
   "metadata": {},
   "outputs": [
    {
     "name": "stdout",
     "output_type": "stream",
     "text": [
      "[[-1.47393679  1.22037928 -1.5639872  -1.30948358]\n",
      " [-0.13307079  3.02001693 -1.27728011 -1.04292204]\n",
      " [ 1.08589829  0.09560575  0.38562104  0.28988568]\n",
      " [-1.23014297  0.77046987 -1.21993869 -1.30948358]\n",
      " [-1.7177306   0.32056046 -1.39196294 -1.30948358]\n",
      " [ 0.59831066 -1.25412249  0.72966956  0.95628954]\n",
      " [ 0.72020757  0.32056046  0.44296246  0.42316645]\n",
      " [-0.74255534  0.99542457 -1.27728011 -1.30948358]\n",
      " [-0.98634915  1.22037928 -1.33462153 -1.30948358]\n",
      " [-0.74255534  2.34515281 -1.27728011 -1.44276436]\n",
      " [-0.01117388 -0.80421307  0.78701097  0.95628954]\n",
      " [ 0.23261993  0.77046987  0.44296246  0.55644722]\n",
      " [ 1.08589829  0.09560575  0.5576453   0.42316645]\n",
      " [-0.49876152  1.8952434  -1.39196294 -1.04292204]\n",
      " [-0.49876152  1.44533399 -1.27728011 -1.30948358]\n",
      " [-0.37686461 -1.47907719 -0.01576889 -0.24323741]\n",
      " [ 0.59831066 -0.57925837  0.78701097  0.42316645]\n",
      " [ 0.72020757  0.09560575  1.01637665  0.82300877]\n",
      " [ 0.96400139 -0.12934896  0.38562104  0.28988568]\n",
      " [ 1.69538284  1.22037928  1.36042516  1.75597417]\n",
      " [-0.13307079 -0.35430366  0.2709382   0.15660491]\n",
      " [ 2.18297047 -0.12934896  1.64713226  1.22285108]\n",
      " [-0.2549677  -0.12934896  0.44296246  0.42316645]\n",
      " [-0.86445224  0.99542457 -1.33462153 -1.30948358]\n",
      " [ 2.30486738 -0.57925837  1.70447368  1.08957031]\n",
      " [-0.01117388 -0.80421307  0.21359679 -0.24323741]\n",
      " [-0.74255534  0.77046987 -1.33462153 -1.30948358]\n",
      " [-0.98634915  0.99542457 -1.39196294 -1.17620281]\n",
      " [-0.86445224  1.67028869 -1.04791443 -1.04292204]\n",
      " [-0.98634915 -2.37889602 -0.13045173 -0.24323741]\n",
      " [ 0.59831066 -0.80421307  0.67232814  0.82300877]\n",
      " [-1.23014297  0.77046987 -1.04791443 -1.30948358]\n",
      " [-0.98634915 -0.12934896 -1.21993869 -1.30948358]\n",
      " [-0.86445224  0.54551516 -1.16259727 -0.90964127]\n",
      " [-0.2549677  -0.80421307  0.2709382   0.15660491]\n",
      " [-0.86445224  0.77046987 -1.27728011 -1.30948358]\n",
      " [-0.13307079 -0.12934896  0.2709382   0.02332414]\n",
      " [ 2.30486738  1.67028869  1.70447368  1.35613185]\n",
      " [-1.47393679  0.32056046 -1.33462153 -1.30948358]\n",
      " [ 0.47641375 -0.35430366  0.32827962  0.15660491]\n",
      " [-0.13307079 -1.25412249  0.72966956  1.08957031]\n",
      " [-0.37686461  2.57010752 -1.33462153 -1.30948358]\n",
      " [ 0.23261993 -0.12934896  0.61498672  0.82300877]\n",
      " [-0.01117388 -0.80421307  0.78701097  0.95628954]\n",
      " [ 0.23261993 -1.9289866   0.15625537 -0.24323741]\n",
      " [-0.49876152 -0.12934896  0.44296246  0.42316645]\n",
      " [ 0.47641375  0.77046987  0.95903523  1.48941263]\n",
      " [-0.37686461 -1.7040319   0.15625537  0.15660491]\n",
      " [-0.49876152  1.8952434  -1.16259727 -1.04292204]\n",
      " [-0.98634915 -1.7040319  -0.24513457 -0.24323741]\n",
      " [ 0.72020757 -0.80421307  0.90169381  0.95628954]\n",
      " [-0.98634915  0.54551516 -1.33462153 -1.30948358]\n",
      " [-0.98634915  0.32056046 -1.44930436 -1.30948358]\n",
      " [-0.37686461 -1.47907719  0.04157253 -0.10995664]\n",
      " [ 1.08589829 -0.12934896  0.72966956  0.68972799]\n",
      " [-1.10824606  0.09560575 -1.27728011 -1.44276436]\n",
      " [-0.01117388 -0.57925837  0.78701097  1.6226934 ]\n",
      " [-0.98634915  0.77046987 -1.27728011 -1.30948358]\n",
      " [-0.98634915  0.99542457 -1.21993869 -0.7763605 ]\n",
      " [ 0.11072303  0.32056046  0.61498672  0.82300877]\n",
      " [-0.86445224 -1.25412249 -0.41715882 -0.10995664]\n",
      " [ 1.32969211  0.32056046  1.13105949  1.48941263]\n",
      " [ 0.23261993 -0.80421307  0.78701097  0.55644722]\n",
      " [ 0.35451684 -1.02916778  1.07371807  0.28988568]\n",
      " [ 2.30486738 -0.12934896  1.36042516  1.48941263]\n",
      " [-0.37686461 -1.25412249  0.15625537  0.15660491]\n",
      " [-1.7177306  -0.35430366 -1.33462153 -1.30948358]\n",
      " [-1.83962751 -0.12934896 -1.50664578 -1.44276436]\n",
      " [ 0.23261993 -1.9289866   0.72966956  0.42316645]\n",
      " [ 1.69538284  0.32056046  1.30308374  0.82300877]\n",
      " [-1.47393679  0.09560575 -1.27728011 -1.30948358]\n",
      " [-0.86445224  0.99542457 -1.33462153 -1.17620281]\n",
      " [-1.7177306  -0.12934896 -1.39196294 -1.30948358]\n",
      " [ 0.59831066 -1.25412249  0.67232814  0.42316645]\n",
      " [ 0.59831066  0.77046987  1.07371807  1.6226934 ]\n",
      " [-1.47393679  0.77046987 -1.33462153 -1.17620281]\n",
      " [ 1.2077952  -0.12934896  1.01637665  1.22285108]\n",
      " [ 0.59831066  0.54551516  1.30308374  1.75597417]\n",
      " [-1.35203988  0.32056046 -1.39196294 -1.30948358]\n",
      " [ 0.35451684 -0.35430366  0.5576453   0.28988568]\n",
      " [ 0.84210448 -0.57925837  0.50030388  0.42316645]\n",
      " [ 0.47641375 -0.57925837  0.61498672  0.82300877]\n",
      " [ 1.45158902  0.32056046  0.5576453   0.28988568]\n",
      " [ 0.72020757  0.32056046  0.90169381  1.48941263]\n",
      " [-0.86445224  1.67028869 -1.21993869 -1.30948358]\n",
      " [ 1.32969211  0.09560575  0.95903523  1.22285108]\n",
      " [ 0.11072303 -0.12934896  0.2709382   0.42316645]\n",
      " [ 0.84210448 -0.12934896  0.84435239  1.08957031]\n",
      " [-0.13307079 -1.02916778 -0.13045173 -0.24323741]\n",
      " [-0.74255534 -0.80421307  0.09891395  0.28988568]\n",
      " [ 0.35451684 -0.12934896  0.50030388  0.28988568]\n",
      " [-1.5958337  -1.7040319  -1.39196294 -1.17620281]\n",
      " [ 0.96400139 -0.35430366  0.50030388  0.15660491]\n",
      " [-0.37686461 -1.02916778  0.38562104  0.02332414]\n",
      " [-0.62065843  1.44533399 -1.27728011 -1.30948358]\n",
      " [-0.2549677  -0.12934896  0.21359679  0.15660491]\n",
      " [ 1.81727975 -0.35430366  1.475108    0.82300877]\n",
      " [ 1.08589829  0.54551516  1.13105949  1.22285108]\n",
      " [-0.86445224  1.44533399 -1.27728011 -1.04292204]\n",
      " [-1.10824606 -1.47907719 -0.24513457 -0.24323741]\n",
      " [ 1.08589829  0.54551516  1.13105949  1.75597417]\n",
      " [ 1.69538284 -0.12934896  1.18840091  0.55644722]\n",
      " [-1.10824606  0.09560575 -1.27728011 -1.44276436]\n",
      " [ 1.08589829  0.09560575  1.07371807  1.6226934 ]\n",
      " [-1.10824606 -0.12934896 -1.33462153 -1.30948358]\n",
      " [ 1.32969211  0.09560575  0.67232814  0.42316645]\n",
      " [ 1.93917666 -0.57925837  1.36042516  0.95628954]\n",
      " [ 0.59831066 -0.35430366  1.07371807  0.82300877]\n",
      " [-0.13307079 -0.57925837  0.21359679  0.15660491]\n",
      " [ 0.84210448 -0.12934896  1.01637665  0.82300877]\n",
      " [ 0.59831066 -1.7040319   0.38562104  0.15660491]\n",
      " [ 0.72020757 -0.35430366  0.32827962  0.15660491]\n",
      " [-0.2549677  -0.57925837  0.67232814  1.08957031]\n",
      " [ 0.11072303 -0.12934896  0.78701097  0.82300877]\n",
      " [-0.49876152  0.77046987 -1.16259727 -1.30948358]\n",
      " [ 0.35451684 -0.57925837  0.15625537  0.15660491]\n",
      " [-1.10824606 -1.25412249  0.44296246  0.68972799]\n",
      " [-0.01117388  2.1201981  -1.44930436 -1.30948358]\n",
      " [-0.01117388 -1.02916778  0.15625537  0.02332414]\n",
      " [ 1.57348593 -0.12934896  1.24574233  1.22285108]]\n",
      "[[0.08823529 0.66666667 0.         0.04166667]\n",
      " [0.41176471 1.         0.0877193  0.125     ]\n",
      " [0.70588235 0.45833333 0.59649123 0.54166667]\n",
      " [0.14705882 0.58333333 0.10526316 0.04166667]\n",
      " [0.02941176 0.5        0.05263158 0.04166667]\n",
      " [0.58823529 0.20833333 0.70175439 0.75      ]\n",
      " [0.61764706 0.5        0.61403509 0.58333333]\n",
      " [0.26470588 0.625      0.0877193  0.04166667]\n",
      " [0.20588235 0.66666667 0.07017544 0.04166667]\n",
      " [0.26470588 0.875      0.0877193  0.        ]\n",
      " [0.44117647 0.29166667 0.71929825 0.75      ]\n",
      " [0.5        0.58333333 0.61403509 0.625     ]\n",
      " [0.70588235 0.45833333 0.64912281 0.58333333]\n",
      " [0.32352941 0.79166667 0.05263158 0.125     ]\n",
      " [0.32352941 0.70833333 0.0877193  0.04166667]\n",
      " [0.35294118 0.16666667 0.47368421 0.375     ]\n",
      " [0.58823529 0.33333333 0.71929825 0.58333333]\n",
      " [0.61764706 0.45833333 0.78947368 0.70833333]\n",
      " [0.67647059 0.41666667 0.59649123 0.54166667]\n",
      " [0.85294118 0.66666667 0.89473684 1.        ]\n",
      " [0.41176471 0.375      0.56140351 0.5       ]\n",
      " [0.97058824 0.41666667 0.98245614 0.83333333]\n",
      " [0.38235294 0.41666667 0.61403509 0.58333333]\n",
      " [0.23529412 0.625      0.07017544 0.04166667]\n",
      " [1.         0.33333333 1.         0.79166667]\n",
      " [0.44117647 0.29166667 0.54385965 0.375     ]\n",
      " [0.26470588 0.58333333 0.07017544 0.04166667]\n",
      " [0.20588235 0.625      0.05263158 0.08333333]\n",
      " [0.23529412 0.75       0.15789474 0.125     ]\n",
      " [0.20588235 0.         0.43859649 0.375     ]\n",
      " [0.58823529 0.29166667 0.68421053 0.70833333]\n",
      " [0.14705882 0.58333333 0.15789474 0.04166667]\n",
      " [0.20588235 0.41666667 0.10526316 0.04166667]\n",
      " [0.23529412 0.54166667 0.12280702 0.16666667]\n",
      " [0.38235294 0.29166667 0.56140351 0.5       ]\n",
      " [0.23529412 0.58333333 0.0877193  0.04166667]\n",
      " [0.41176471 0.41666667 0.56140351 0.45833333]\n",
      " [1.         0.75       1.         0.875     ]\n",
      " [0.08823529 0.5        0.07017544 0.04166667]\n",
      " [0.55882353 0.375      0.57894737 0.5       ]\n",
      " [0.41176471 0.20833333 0.70175439 0.79166667]\n",
      " [0.35294118 0.91666667 0.07017544 0.04166667]\n",
      " [0.5        0.41666667 0.66666667 0.70833333]\n",
      " [0.44117647 0.29166667 0.71929825 0.75      ]\n",
      " [0.5        0.08333333 0.52631579 0.375     ]\n",
      " [0.32352941 0.41666667 0.61403509 0.58333333]\n",
      " [0.55882353 0.58333333 0.77192982 0.91666667]\n",
      " [0.35294118 0.125      0.52631579 0.5       ]\n",
      " [0.32352941 0.79166667 0.12280702 0.125     ]\n",
      " [0.20588235 0.125      0.40350877 0.375     ]\n",
      " [0.61764706 0.29166667 0.75438596 0.75      ]\n",
      " [0.20588235 0.54166667 0.07017544 0.04166667]\n",
      " [0.20588235 0.5        0.03508772 0.04166667]\n",
      " [0.35294118 0.16666667 0.49122807 0.41666667]\n",
      " [0.70588235 0.41666667 0.70175439 0.66666667]\n",
      " [0.17647059 0.45833333 0.0877193  0.        ]\n",
      " [0.44117647 0.33333333 0.71929825 0.95833333]\n",
      " [0.20588235 0.58333333 0.0877193  0.04166667]\n",
      " [0.20588235 0.625      0.10526316 0.20833333]\n",
      " [0.47058824 0.5        0.66666667 0.70833333]\n",
      " [0.23529412 0.20833333 0.35087719 0.41666667]\n",
      " [0.76470588 0.5        0.8245614  0.91666667]\n",
      " [0.5        0.29166667 0.71929825 0.625     ]\n",
      " [0.52941176 0.25       0.80701754 0.54166667]\n",
      " [1.         0.41666667 0.89473684 0.91666667]\n",
      " [0.35294118 0.20833333 0.52631579 0.5       ]\n",
      " [0.02941176 0.375      0.07017544 0.04166667]\n",
      " [0.         0.41666667 0.01754386 0.        ]\n",
      " [0.5        0.08333333 0.70175439 0.58333333]\n",
      " [0.85294118 0.5        0.87719298 0.70833333]\n",
      " [0.08823529 0.45833333 0.0877193  0.04166667]\n",
      " [0.23529412 0.625      0.07017544 0.08333333]\n",
      " [0.02941176 0.41666667 0.05263158 0.04166667]\n",
      " [0.58823529 0.20833333 0.68421053 0.58333333]\n",
      " [0.58823529 0.58333333 0.80701754 0.95833333]\n",
      " [0.08823529 0.58333333 0.07017544 0.08333333]\n",
      " [0.73529412 0.41666667 0.78947368 0.83333333]\n",
      " [0.58823529 0.54166667 0.87719298 1.        ]\n",
      " [0.11764706 0.5        0.05263158 0.04166667]\n",
      " [0.52941176 0.375      0.64912281 0.54166667]\n",
      " [0.64705882 0.33333333 0.63157895 0.58333333]\n",
      " [0.55882353 0.33333333 0.66666667 0.70833333]\n",
      " [0.79411765 0.5        0.64912281 0.54166667]\n",
      " [0.61764706 0.5        0.75438596 0.91666667]\n",
      " [0.23529412 0.75       0.10526316 0.04166667]\n",
      " [0.76470588 0.45833333 0.77192982 0.83333333]\n",
      " [0.47058824 0.41666667 0.56140351 0.58333333]\n",
      " [0.64705882 0.41666667 0.73684211 0.79166667]\n",
      " [0.41176471 0.25       0.43859649 0.375     ]\n",
      " [0.26470588 0.29166667 0.50877193 0.54166667]\n",
      " [0.52941176 0.41666667 0.63157895 0.54166667]\n",
      " [0.05882353 0.125      0.05263158 0.08333333]\n",
      " [0.67647059 0.375      0.63157895 0.5       ]\n",
      " [0.35294118 0.25       0.59649123 0.45833333]\n",
      " [0.29411765 0.70833333 0.0877193  0.04166667]\n",
      " [0.38235294 0.41666667 0.54385965 0.5       ]\n",
      " [0.88235294 0.375      0.92982456 0.70833333]\n",
      " [0.70588235 0.54166667 0.8245614  0.83333333]\n",
      " [0.23529412 0.70833333 0.0877193  0.125     ]\n",
      " [0.17647059 0.16666667 0.40350877 0.375     ]\n",
      " [0.70588235 0.54166667 0.8245614  1.        ]\n",
      " [0.85294118 0.41666667 0.84210526 0.625     ]\n",
      " [0.17647059 0.45833333 0.0877193  0.        ]\n",
      " [0.70588235 0.45833333 0.80701754 0.95833333]\n",
      " [0.17647059 0.41666667 0.07017544 0.04166667]\n",
      " [0.76470588 0.45833333 0.68421053 0.58333333]\n",
      " [0.91176471 0.33333333 0.89473684 0.75      ]\n",
      " [0.58823529 0.375      0.80701754 0.70833333]\n",
      " [0.41176471 0.33333333 0.54385965 0.5       ]\n",
      " [0.64705882 0.41666667 0.78947368 0.70833333]\n",
      " [0.58823529 0.125      0.59649123 0.5       ]\n",
      " [0.61764706 0.375      0.57894737 0.5       ]\n",
      " [0.38235294 0.33333333 0.68421053 0.79166667]\n",
      " [0.47058824 0.41666667 0.71929825 0.70833333]\n",
      " [0.32352941 0.58333333 0.12280702 0.04166667]\n",
      " [0.52941176 0.33333333 0.52631579 0.5       ]\n",
      " [0.17647059 0.20833333 0.61403509 0.66666667]\n",
      " [0.44117647 0.83333333 0.03508772 0.04166667]\n",
      " [0.44117647 0.25       0.52631579 0.45833333]\n",
      " [0.82352941 0.41666667 0.85964912 0.83333333]]\n",
      "[[0.77577075 0.60712493 0.16864581 0.03372916]\n",
      " [0.77381111 0.59732787 0.2036345  0.05430253]\n",
      " [0.76945444 0.35601624 0.50531337 0.16078153]\n",
      " [0.786991   0.55745196 0.26233033 0.03279129]\n",
      " [0.78609038 0.57170209 0.23225397 0.03573138]\n",
      " [0.72965359 0.28954508 0.57909015 0.22005426]\n",
      " [0.74549757 0.37274878 0.52417798 0.17472599]\n",
      " [0.80641965 0.54278246 0.23262105 0.03101614]\n",
      " [0.790965   0.5694948  0.2214702  0.0316386 ]\n",
      " [0.76578311 0.60379053 0.22089897 0.0147266 ]\n",
      " [0.69052512 0.32145135 0.60718588 0.22620651]\n",
      " [0.71524936 0.40530797 0.53643702 0.19073316]\n",
      " [0.75457341 0.34913098 0.52932761 0.16893434]\n",
      " [0.79428944 0.57365349 0.19121783 0.05883625]\n",
      " [0.80373519 0.55070744 0.22325977 0.02976797]\n",
      " [0.77242925 0.33706004 0.51963422 0.14044168]\n",
      " [0.72366005 0.32162669 0.58582004 0.17230001]\n",
      " [0.69804799 0.338117   0.59988499 0.196326  ]\n",
      " [0.76785726 0.34902603 0.51190484 0.16287881]\n",
      " [0.69198788 0.34599394 0.58626751 0.24027357]\n",
      " [0.73446047 0.37367287 0.5411814  0.16750853]\n",
      " [0.70953708 0.28008043 0.61617694 0.1960563 ]\n",
      " [0.70631892 0.37838513 0.5675777  0.18919257]\n",
      " [0.80377277 0.55160877 0.22064351 0.0315205 ]\n",
      " [0.71486543 0.25995106 0.62202576 0.18567933]\n",
      " [0.75676497 0.35228714 0.53495455 0.13047672]\n",
      " [0.81609427 0.5336001  0.21971769 0.03138824]\n",
      " [0.80033301 0.56023311 0.20808658 0.04801998]\n",
      " [0.76693897 0.57144472 0.28572236 0.06015208]\n",
      " [0.76923077 0.30769231 0.53846154 0.15384615]\n",
      " [0.73122464 0.31338199 0.56873028 0.20892133]\n",
      " [0.776114   0.54974742 0.30721179 0.03233808]\n",
      " [0.82647451 0.4958847  0.26447184 0.03305898]\n",
      " [0.80597792 0.52151512 0.26865931 0.07901744]\n",
      " [0.73544284 0.35458851 0.55158213 0.1707278 ]\n",
      " [0.80779568 0.53853046 0.23758697 0.03167826]\n",
      " [0.73239618 0.38547167 0.53966034 0.15418867]\n",
      " [0.69299099 0.34199555 0.60299216 0.19799743]\n",
      " [0.79594782 0.55370283 0.24224499 0.03460643]\n",
      " [0.75728103 0.3542121  0.52521104 0.15878473]\n",
      " [0.6925518  0.30375079 0.60750157 0.24300063]\n",
      " [0.77867447 0.59462414 0.19820805 0.02831544]\n",
      " [0.71066905 0.35533453 0.56853524 0.21320072]\n",
      " [0.69052512 0.32145135 0.60718588 0.22620651]\n",
      " [0.78892752 0.28927343 0.52595168 0.13148792]\n",
      " [0.69333409 0.38518561 0.57777841 0.1925928 ]\n",
      " [0.67467072 0.36998072 0.58761643 0.25028107]\n",
      " [0.75384916 0.31524601 0.54825394 0.17818253]\n",
      " [0.78417499 0.5663486  0.2468699  0.05808704]\n",
      " [0.76986879 0.35413965 0.5081134  0.15397376]\n",
      " [0.71576546 0.30196356 0.59274328 0.21249287]\n",
      " [0.81228363 0.5361072  0.22743942 0.03249135]\n",
      " [0.82512295 0.52807869 0.19802951 0.03300492]\n",
      " [0.76521855 0.33391355 0.52869645 0.15304371]\n",
      " [0.74088576 0.33173989 0.55289982 0.18798594]\n",
      " [0.81803119 0.51752994 0.25041771 0.01669451]\n",
      " [0.67767924 0.32715549 0.59589036 0.28041899]\n",
      " [0.80218492 0.54548574 0.24065548 0.0320874 ]\n",
      " [0.78889479 0.55222635 0.25244633 0.09466737]\n",
      " [0.6985796  0.37889063 0.56833595 0.21312598]\n",
      " [0.78258054 0.38361791 0.4603415  0.16879188]\n",
      " [0.70558934 0.32722984 0.58287815 0.23519645]\n",
      " [0.70779525 0.31850786 0.60162596 0.1887454 ]\n",
      " [0.69385414 0.29574111 0.63698085 0.15924521]\n",
      " [0.73154399 0.28501714 0.57953485 0.21851314]\n",
      " [0.74714194 0.33960997 0.54337595 0.17659719]\n",
      " [0.80642366 0.5315065  0.25658935 0.03665562]\n",
      " [0.8025126  0.55989251 0.20529392 0.01866308]\n",
      " [0.72712585 0.26661281 0.60593821 0.18178146]\n",
      " [0.71529453 0.31790868 0.59607878 0.17882363]\n",
      " [0.80003025 0.53915082 0.26087943 0.03478392]\n",
      " [0.80327412 0.55126656 0.22050662 0.04725142]\n",
      " [0.80212413 0.54690282 0.23699122 0.03646019]\n",
      " [0.74143307 0.29421947 0.57667016 0.17653168]\n",
      " [0.67017484 0.36168166 0.59571097 0.2553047 ]\n",
      " [0.78010936 0.57660257 0.23742459 0.0508767 ]\n",
      " [0.71718148 0.31640359 0.58007326 0.22148252]\n",
      " [0.65387747 0.34250725 0.62274045 0.25947519]\n",
      " [0.80533308 0.54831188 0.2227517  0.03426949]\n",
      " [0.73081412 0.34743622 0.56308629 0.16772783]\n",
      " [0.7581754  0.32659863 0.5365549  0.17496355]\n",
      " [0.72785195 0.32870733 0.56349829 0.21131186]\n",
      " [0.76701103 0.35063361 0.51499312 0.15340221]\n",
      " [0.69589887 0.34794944 0.57629125 0.25008866]\n",
      " [0.77729093 0.57915795 0.24385598 0.030482  ]\n",
      " [0.72415258 0.32534391 0.56672811 0.22039426]\n",
      " [0.73923462 0.37588201 0.52623481 0.187941  ]\n",
      " [0.71653899 0.3307103  0.57323119 0.22047353]\n",
      " [0.78667474 0.35883409 0.48304589 0.13801311]\n",
      " [0.72460233 0.37623583 0.54345175 0.19508524]\n",
      " [0.73260391 0.36029701 0.55245541 0.1681386 ]\n",
      " [0.86093857 0.44003527 0.24871559 0.0573959 ]\n",
      " [0.76301853 0.33526572 0.53180079 0.15029153]\n",
      " [0.72337118 0.34195729 0.57869695 0.15782644]\n",
      " [0.79837025 0.55735281 0.22595384 0.03012718]\n",
      " [0.72992443 0.39103094 0.53440896 0.16944674]\n",
      " [0.71366557 0.28351098 0.61590317 0.17597233]\n",
      " [0.69595601 0.3427843  0.59208198 0.21813547]\n",
      " [0.78591858 0.57017622 0.23115252 0.06164067]\n",
      " [0.75916547 0.37183615 0.51127471 0.15493173]\n",
      " [0.68914871 0.33943145 0.58629069 0.25714504]\n",
      " [0.73089855 0.30454106 0.58877939 0.1624219 ]\n",
      " [0.81803119 0.51752994 0.25041771 0.01669451]\n",
      " [0.69997037 0.32386689 0.58504986 0.25073566]\n",
      " [0.82813287 0.50702013 0.23660939 0.03380134]\n",
      " [0.75519285 0.33928954 0.53629637 0.16417236]\n",
      " [0.72766159 0.27533141 0.59982915 0.18683203]\n",
      " [0.69276796 0.31889319 0.61579374 0.1979337 ]\n",
      " [0.7431482  0.36505526 0.5345452  0.16948994]\n",
      " [0.70610474 0.3258945  0.59747324 0.1955367 ]\n",
      " [0.77530021 0.28304611 0.54147951 0.15998258]\n",
      " [0.76741698 0.34773582 0.51560829 0.15588157]\n",
      " [0.68307923 0.34153961 0.59769433 0.24395687]\n",
      " [0.69025916 0.35097923 0.5966647  0.21058754]\n",
      " [0.8173379  0.51462016 0.25731008 0.03027177]\n",
      " [0.77011854 0.35349703 0.50499576 0.16412362]\n",
      " [0.67054118 0.34211284 0.61580312 0.23263673]\n",
      " [0.81120865 0.55945424 0.16783627 0.02797271]\n",
      " [0.76262994 0.34186859 0.52595168 0.1577855 ]\n",
      " [0.71491405 0.30207636 0.59408351 0.21145345]]\n"
     ]
    }
   ],
   "source": [
    "print(X_train_ss)\n",
    "print(X_train_ms)\n",
    "print(X_train_ns)"
   ]
  },
  {
   "cell_type": "code",
   "execution_count": 19,
   "id": "9b007edc",
   "metadata": {},
   "outputs": [],
   "source": [
    "from sklearn.metrics import accuracy_score\n",
    "import seaborn as sns"
   ]
  },
  {
   "cell_type": "code",
   "execution_count": 23,
   "id": "682670b6",
   "metadata": {},
   "outputs": [
    {
     "data": {
      "text/plain": [
       "<AxesSubplot:title={'center':'Scaling vs Acuracy Score'}, xlabel='Scaling', ylabel='Accuracy Score'>"
      ]
     },
     "execution_count": 23,
     "metadata": {},
     "output_type": "execute_result"
    },
    {
     "data": {
      "image/png": "[encoded data removed]",
      "text/plain": [
       "<Figure size 432x288 with 1 Axes>"
      ]
     },
     "metadata": {
      "needs_background": "light"
     },
     "output_type": "display_data"
    }
   ],
   "source": [
    "from sklearn.linear_model import LogisticRegression\n",
    "\n",
    "lr = {'X':['Stndard Scalar','MinMax Scalar','Normalizer'],'y':[]};\n",
    "\n",
    "classification1 = LogisticRegression()\n",
    "classification2 = LogisticRegression()\n",
    "classification3 = LogisticRegression()\n",
    "\n",
    "classification1.fit(X_train_ss,y_train)\n",
    "classification2.fit(X_train_ms,y_train)\n",
    "classification3.fit(X_train_ns,y_train)\n",
    "\n",
    "lr[\"y\"].append(accuracy_score(y_test,classification1.predict(X_test_ss)))\n",
    "lr[\"y\"].append(accuracy_score(y_test,classification2.predict(X_test_ms)))\n",
    "lr[\"y\"].append(accuracy_score(y_test,classification3.predict(X_test_ns)))\n",
    "\n",
    "plt.title('Scaling vs Acuracy Score')\n",
    "plt.xlabel('Scaling', fontsize=14)\n",
    "plt.ylabel('Accuracy Score', fontsize=14)\n",
    "\n",
    "sns.barplot(data=lr,x='y',y='X',orient='h')\n"
   ]
  },
  {
   "cell_type": "code",
   "execution_count": 26,
   "id": "7fc97366",
   "metadata": {},
   "outputs": [
    {
     "name": "stdout",
     "output_type": "stream",
     "text": [
      "{'X': ['Stndard Scalar', 'MinMax Scalar', 'Normalizer'], 'y': [0.8666666666666667, 0.9, 0.8333333333333334]}\n"
     ]
    },
    {
     "data": {
      "image/png": "[encoded data removed]",
      "text/plain": [
       "<Figure size 432x288 with 1 Axes>"
      ]
     },
     "metadata": {
      "needs_background": "light"
     },
     "output_type": "display_data"
    }
   ],
   "source": [
    "from sklearn.linear_model import RidgeClassifier\n",
    "\n",
    "lr = {'X':['Stndard Scalar','MinMax Scalar','Normalizer'],'y':[]};\n",
    "\n",
    "classification4 = RidgeClassifier()\n",
    "classification5 = RidgeClassifier()\n",
    "classification6 = RidgeClassifier()\n",
    "\n",
    "classification4.fit(X_train_ss,y_train)\n",
    "classification5.fit(X_train_ms,y_train)\n",
    "classification6.fit(X_train_ns,y_train)\n",
    "\n",
    "lr[\"y\"].append(accuracy_score(y_test,classification4.predict(X_test_ss)))\n",
    "lr[\"y\"].append(accuracy_score(y_test,classification5.predict(X_test_ms)))\n",
    "lr[\"y\"].append(accuracy_score(y_test,classification6.predict(X_test_ns)))\n",
    "\n",
    "plt.title('Scaling vs Acuracy Score')\n",
    "plt.xlabel('Scaling', fontsize=14)\n",
    "plt.ylabel('Accuracy Score', fontsize=14)\n",
    "\n",
    "sns.barplot(data=lr,x='y',y='X',orient='h')\n",
    "\n",
    "print(lr)"
   ]
  },
  {
   "cell_type": "code",
   "execution_count": 28,
   "id": "a144f6ca",
   "metadata": {},
   "outputs": [
    {
     "name": "stdout",
     "output_type": "stream",
     "text": [
      "{'X': ['Stndard Scalar', 'MinMax Scalar', 'Normalizer'], 'y': [1.0, 1.0, 0.9666666666666667]}\n"
     ]
    },
    {
     "data": {
      "text/plain": [
       "<AxesSubplot:title={'center':'Scaling vs Acuracy Score'}, xlabel='Scaling', ylabel='Accuracy Score'>"
      ]
     },
     "execution_count": 28,
     "metadata": {},
     "output_type": "execute_result"
    },
    {
     "data": {
      "image/png": "[encoded data removed]",
      "text/plain": [
       "<Figure size 432x288 with 1 Axes>"
      ]
     },
     "metadata": {
      "needs_background": "light"
     },
     "output_type": "display_data"
    }
   ],
   "source": [
    "from sklearn.svm import SVC\n",
    "\n",
    "lr = {'X':['Stndard Scalar','MinMax Scalar','Normalizer'],'y':[]};\n",
    "\n",
    "classification7 = SVC()\n",
    "classification8 = SVC()\n",
    "classification9 = SVC()\n",
    "\n",
    "classification7.fit(X_train_ss,y_train)\n",
    "classification8.fit(X_train_ms,y_train)\n",
    "classification9.fit(X_train_ns,y_train)\n",
    "\n",
    "lr[\"y\"].append(accuracy_score(y_test,classification7.predict(X_test_ss)))\n",
    "lr[\"y\"].append(accuracy_score(y_test,classification8.predict(X_test_ms)))\n",
    "lr[\"y\"].append(accuracy_score(y_test,classification9.predict(X_test_ns)))\n",
    "\n",
    "plt.title('Scaling vs Acuracy Score')\n",
    "plt.xlabel('Scaling', fontsize=14)\n",
    "plt.ylabel('Accuracy Score', fontsize=14)\n",
    "\n",
    "print(lr)\n",
    "\n",
    "sns.barplot(data=lr,x='y',y='X',orient='h')"
   ]
  },
  {
   "cell_type": "code",
   "execution_count": 29,
   "id": "5da4331c",
   "metadata": {},
   "outputs": [
    {
     "name": "stdout",
     "output_type": "stream",
     "text": [
      "{'X': ['Stndard Scalar', 'MinMax Scalar', 'Normalizer'], 'y': [1.0, 1.0, 0.8333333333333334]}\n"
     ]
    },
    {
     "data": {
      "text/plain": [
       "<AxesSubplot:title={'center':'Scaling vs Acuracy Score'}, xlabel='Scaling', ylabel='Accuracy Score'>"
      ]
     },
     "execution_count": 29,
     "metadata": {},
     "output_type": "execute_result"
    },
    {
     "data": {
      "image/png": "[encoded data removed]",
      "text/plain": [
       "<Figure size 432x288 with 1 Axes>"
      ]
     },
     "metadata": {
      "needs_background": "light"
     },
     "output_type": "display_data"
    }
   ],
   "source": [
    "from sklearn.tree import DecisionTreeClassifier\n",
    "\n",
    "lr = {'X':['Stndard Scalar','MinMax Scalar','Normalizer'],'y':[]};\n",
    "\n",
    "classification10 = DecisionTreeClassifier()\n",
    "classification11 = DecisionTreeClassifier()\n",
    "classification12 = DecisionTreeClassifier()\n",
    "\n",
    "classification10.fit(X_train_ss,y_train)\n",
    "classification11.fit(X_train_ms,y_train)\n",
    "classification12.fit(X_train_ns,y_train)\n",
    "\n",
    "lr[\"y\"].append(accuracy_score(y_test,classification10.predict(X_test_ss)))\n",
    "lr[\"y\"].append(accuracy_score(y_test,classification11.predict(X_test_ms)))\n",
    "lr[\"y\"].append(accuracy_score(y_test,classification12.predict(X_test_ns)))\n",
    "\n",
    "plt.title('Scaling vs Acuracy Score')\n",
    "plt.xlabel('Scaling', fontsize=14)\n",
    "plt.ylabel('Accuracy Score', fontsize=14)\n",
    "\n",
    "print(lr)\n",
    "\n",
    "sns.barplot(data=lr,x='y',y='X',orient='h')"
   ]
  },
  {
   "cell_type": "code",
   "execution_count": 32,
   "id": "4d451ccd",
   "metadata": {},
   "outputs": [
    {
     "name": "stdout",
     "output_type": "stream",
     "text": [
      "{'X': ['Stndard Scalar', 'MinMax Scalar', 'Normalizer'], 'y': [1.0, 1.0, 0.9666666666666667]}\n"
     ]
    },
    {
     "data": {
      "text/plain": [
       "<AxesSubplot:title={'center':'Scaling vs Acuracy Score'}, xlabel='Scaling', ylabel='Accuracy Score'>"
      ]
     },
     "execution_count": 32,
     "metadata": {},
     "output_type": "execute_result"
    },
    {
     "data": {
      "image/png": "[encoded data removed]",
      "text/plain": [
       "<Figure size 432x288 with 1 Axes>"
      ]
     },
     "metadata": {
      "needs_background": "light"
     },
     "output_type": "display_data"
    }
   ],
   "source": [
    "from sklearn.ensemble import RandomForestClassifier\n",
    "\n",
    "lr = {'X':['Stndard Scalar','MinMax Scalar','Normalizer'],'y':[]};\n",
    "\n",
    "classification13 = RandomForestClassifier()\n",
    "classification14 = RandomForestClassifier()\n",
    "classification15 = RandomForestClassifier()\n",
    "\n",
    "classification13.fit(X_train_ss,y_train)\n",
    "classification14.fit(X_train_ms,y_train)\n",
    "classification15.fit(X_train_ns,y_train)\n",
    "\n",
    "lr[\"y\"].append(accuracy_score(y_test,classification13.predict(X_test_ss)))\n",
    "lr[\"y\"].append(accuracy_score(y_test,classification14.predict(X_test_ms)))\n",
    "lr[\"y\"].append(accuracy_score(y_test,classification15.predict(X_test_ns)))\n",
    "\n",
    "plt.title('Scaling vs Acuracy Score')\n",
    "plt.xlabel('Scaling', fontsize=14)\n",
    "plt.ylabel('Accuracy Score', fontsize=14)\n",
    "\n",
    "print(lr)\n",
    "\n",
    "sns.barplot(data=lr,x='y',y='X',orient='h')"
   ]
  },
  {
   "cell_type": "code",
   "execution_count": 33,
   "id": "b376ac2d",
   "metadata": {},
   "outputs": [
    {
     "name": "stdout",
     "output_type": "stream",
     "text": [
      "{'X': ['Stndard Scalar', 'MinMax Scalar', 'Normalizer'], 'y': [1.0, 1.0, 1.0]}\n"
     ]
    },
    {
     "data": {
      "text/plain": [
       "<AxesSubplot:title={'center':'Scaling vs Acuracy Score'}, xlabel='Scaling', ylabel='Accuracy Score'>"
      ]
     },
     "execution_count": 33,
     "metadata": {},
     "output_type": "execute_result"
    },
    {
     "data": {
      "image/png": "[encoded data removed]",
      "text/plain": [
       "<Figure size 432x288 with 1 Axes>"
      ]
     },
     "metadata": {
      "needs_background": "light"
     },
     "output_type": "display_data"
    }
   ],
   "source": [
    "from sklearn.neighbors import KNeighborsClassifier\n",
    "\n",
    "lr = {'X':['Stndard Scalar','MinMax Scalar','Normalizer'],'y':[]};\n",
    "\n",
    "classification16 = KNeighborsClassifier()\n",
    "classification17 = KNeighborsClassifier()\n",
    "classification18 = KNeighborsClassifier()\n",
    "\n",
    "classification16.fit(X_train_ss,y_train)\n",
    "classification17.fit(X_train_ms,y_train)\n",
    "classification18.fit(X_train_ns,y_train)\n",
    "\n",
    "lr[\"y\"].append(accuracy_score(y_test,classification16.predict(X_test_ss)))\n",
    "lr[\"y\"].append(accuracy_score(y_test,classification17.predict(X_test_ms)))\n",
    "lr[\"y\"].append(accuracy_score(y_test,classification18.predict(X_test_ns)))\n",
    "\n",
    "plt.title('Scaling vs Acuracy Score')\n",
    "plt.xlabel('Scaling', fontsize=14)\n",
    "plt.ylabel('Accuracy Score', fontsize=14)\n",
    "\n",
    "print(lr)\n",
    "\n",
    "sns.barplot(data=lr,x='y',y='X',orient='h')"
   ]
  },
  {
   "cell_type": "code",
   "execution_count": null,
   "id": "db7d1166",
   "metadata": {},
   "outputs": [],
   "source": []
  }
 ],
 "metadata": {
  "kernelspec": {
   "display_name": "Python 3",
   "language": "python",
   "name": "python3"
  },
  "language_info": {
   "codemirror_mode": {
    "name": "ipython",
    "version": 3
   },
   "file_extension": ".py",
   "mimetype": "text/x-python",
   "name": "python",
   "nbconvert_exporter": "python",
   "pygments_lexer": "ipython3",
   "version": "3.8.8"
  }
 },
 "nbformat": 4,
 "nbformat_minor": 5
}
